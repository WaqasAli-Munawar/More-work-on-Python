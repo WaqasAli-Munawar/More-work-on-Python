{
 "cells": [
  {
   "cell_type": "markdown",
   "metadata": {},
   "source": [
    "# Concatenating text strings"
   ]
  },
  {
   "cell_type": "code",
   "execution_count": 2,
   "metadata": {},
   "outputs": [
    {
     "data": {
      "text/plain": [
       "'Asad & Masab are my friends'"
      ]
     },
     "execution_count": 2,
     "metadata": {},
     "output_type": "execute_result"
    }
   ],
   "source": [
    "a = \"Asad\"\n",
    "b = \"Masab\"\n",
    "\n",
    "a + \" & \" + b + \" are my friends\""
   ]
  },
  {
   "cell_type": "code",
   "execution_count": 4,
   "metadata": {},
   "outputs": [
    {
     "data": {
      "text/plain": [
       "' My friends Asad and Masab study in class 1'"
      ]
     },
     "execution_count": 4,
     "metadata": {},
     "output_type": "execute_result"
    }
   ],
   "source": [
    "\" My friends \" +  a +  \" and \" +  b + \" study in class 1\""
   ]
  },
  {
   "cell_type": "code",
   "execution_count": 7,
   "metadata": {},
   "outputs": [
    {
     "data": {
      "text/plain": [
       "('I am enrolled in course A I, which is taught by Sir Asad and we have ',\n",
       " 3,\n",
       " ' teachers in a class.')"
      ]
     },
     "execution_count": 7,
     "metadata": {},
     "output_type": "execute_result"
    }
   ],
   "source": [
    "course = \"A I\"\n",
    "teacher  = \"Sir Asad\"\n",
    "no_of_teacher = 3\n",
    "\n",
    "\"I am enrolled in course \" + course + \", which is taught by \" +  teacher + \" \\\n",
    "and we have \",  no_of_teacher ,  \" teachers in a class.\""
   ]
  },
  {
   "cell_type": "code",
   "execution_count": 9,
   "metadata": {},
   "outputs": [
    {
     "data": {
      "text/plain": [
       "'I am enrolled in course A I, which is taught by Sir Asadand we have 3in a class.'"
      ]
     },
     "execution_count": 9,
     "metadata": {},
     "output_type": "execute_result"
    }
   ],
   "source": [
    "\"I am enrolled in course \" + course + \", which is taught by \" +  teacher + \"\\\n",
    "and we have \" +  str(no_of_teacher) +  \"in a class.\""
   ]
  },
  {
   "cell_type": "markdown",
   "metadata": {},
   "source": [
    "# if statements\n"
   ]
  },
  {
   "cell_type": "code",
   "execution_count": 12,
   "metadata": {},
   "outputs": [
    {
     "name": "stdout",
     "output_type": "stream",
     "text": [
      "you can attend a A.I class\n"
     ]
    }
   ],
   "source": [
    "course = \"A.I\"\n",
    "fee = \"paid\"\n",
    "\n",
    "if fee == \"paid\":\n",
    "    print(\"you can attend a\", course, \"class\")"
   ]
  },
  {
   "cell_type": "code",
   "execution_count": 13,
   "metadata": {},
   "outputs": [
    {
     "name": "stdout",
     "output_type": "stream",
     "text": [
      "you can attend a A.I class\n"
     ]
    }
   ],
   "source": [
    "if fee:\n",
    "    print(\"you can attend a\", course, \"class\")"
   ]
  },
  {
   "cell_type": "code",
   "execution_count": 15,
   "metadata": {},
   "outputs": [],
   "source": [
    "num = 0\n",
    "if num:\n",
    "    print(\"you can attend a\", course, \"class\")"
   ]
  },
  {
   "cell_type": "code",
   "execution_count": 16,
   "metadata": {},
   "outputs": [],
   "source": [
    "value = False\n",
    "\n",
    "if value:\n",
    "    print(\"you can attend a\", course, \"class\")\n",
    "    "
   ]
  },
  {
   "cell_type": "markdown",
   "metadata": {},
   "source": [
    "# Comparison operators"
   ]
  },
  {
   "cell_type": "markdown",
   "metadata": {},
   "source": [
    "* equal ==\n",
    "* not equal !=\n",
    "* greater than >\n",
    "* less than <\n",
    "* less than & equal <=\n",
    "* greater than and equal >="
   ]
  },
  {
   "cell_type": "code",
   "execution_count": 20,
   "metadata": {},
   "outputs": [
    {
     "name": "stdout",
     "output_type": "stream",
     "text": [
      "Tahir\n"
     ]
    }
   ],
   "source": [
    "if 5 != 7:\n",
    "    print(\"Tahir\")"
   ]
  },
  {
   "cell_type": "code",
   "execution_count": 21,
   "metadata": {},
   "outputs": [
    {
     "name": "stdout",
     "output_type": "stream",
     "text": [
      "2 is less than 3\n"
     ]
    }
   ],
   "source": [
    "if 2>3:\n",
    "    print(\"ok\")\n",
    "else:\n",
    "    print(2, \"is less than\",3)"
   ]
  },
  {
   "cell_type": "code",
   "execution_count": 22,
   "metadata": {},
   "outputs": [
    {
     "name": "stdout",
     "output_type": "stream",
     "text": [
      "2,3\n"
     ]
    }
   ],
   "source": [
    "print(\"2\" + \",\" + \"3\")"
   ]
  },
  {
   "cell_type": "code",
   "execution_count": 25,
   "metadata": {},
   "outputs": [
    {
     "name": "stdout",
     "output_type": "stream",
     "text": [
      "withdraw\n"
     ]
    }
   ],
   "source": [
    "balance= 15000\n",
    "if balance >= 10000:\n",
    "    print(\"withdraw\")\n",
    "else:\n",
    "    print(\"cant withdraw\")"
   ]
  },
  {
   "cell_type": "code",
   "execution_count": 29,
   "metadata": {},
   "outputs": [
    {
     "name": "stdout",
     "output_type": "stream",
     "text": [
      "withdraw\n"
     ]
    }
   ],
   "source": [
    "balance= 15000\n",
    "if balance >= 10000:\n",
    "    print(\"withdraw\")\n",
    "else:\n",
    "    print(\"cant withdraw\")"
   ]
  },
  {
   "cell_type": "markdown",
   "metadata": {},
   "source": [
    "# else and elif statements\n"
   ]
  },
  {
   "cell_type": "code",
   "execution_count": 30,
   "metadata": {},
   "outputs": [
    {
     "name": "stdout",
     "output_type": "stream",
     "text": [
      "You are having money less than banchmark\n"
     ]
    }
   ],
   "source": [
    "balance= 15000\n",
    "if 10000 < balance <= 13000:\n",
    "    print(\"Please deposit more money\")\n",
    "elif balance >= 17000:\n",
    "    print(\"Please withdraw money\")\n",
    "else:\n",
    "    print(\"You are having money less than banchmark\")"
   ]
  },
  {
   "cell_type": "markdown",
   "metadata": {},
   "source": [
    "# Assignment \n",
    "\n",
    "first_Cond = greater_than&equals 90 and lessthan&equals 100 -> A+ Grade\n",
    "\n",
    "Second_Cond = greater_than&equals 80 and lessthan 90 -> A Grade\n",
    "\n",
    "Third_Cond = greater_than&equals 70 and lessthan 80 -> B Grade\n",
    "\n",
    "Fourth_Cond = greater_than&equals 60 and lessthan 70 -> C Grade\n",
    "\n",
    "Fifth_Cond = below 60 -> F Grade"
   ]
  },
  {
   "cell_type": "code",
   "execution_count": null,
   "metadata": {},
   "outputs": [],
   "source": []
  }
 ],
 "metadata": {
  "kernelspec": {
   "display_name": "Python 3",
   "language": "python",
   "name": "python3"
  },
  "language_info": {
   "codemirror_mode": {
    "name": "ipython",
    "version": 3
   },
   "file_extension": ".py",
   "mimetype": "text/x-python",
   "name": "python",
   "nbconvert_exporter": "python",
   "pygments_lexer": "ipython3",
   "version": "3.7.1"
  }
 },
 "nbformat": 4,
 "nbformat_minor": 2
}
