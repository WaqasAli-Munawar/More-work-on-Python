{
 "cells": [
  {
   "cell_type": "code",
   "execution_count": 1,
   "metadata": {},
   "outputs": [],
   "source": [
    "lofd = [{'Name': 'Anwar', 'age': 20, 'Desugnation': 'A.M'},\n",
    " {'Name': 'Tahir', 'age': 21, 'Desugnation': 'D.M'},\n",
    " {'Name': 'Ammar', 'age': 22, 'Desugnation': 'Manager'},\n",
    " {'Name': 'Shafiq', 'age': 23, 'Desugnation': 'G.M'},\n",
    " {'Name': 'Afaq', 'age': 24, 'Desugnation': 'Director'}]"
   ]
  },
  {
   "cell_type": "code",
   "execution_count": 3,
   "metadata": {},
   "outputs": [
    {
     "data": {
      "text/plain": [
       "21"
      ]
     },
     "execution_count": 3,
     "metadata": {},
     "output_type": "execute_result"
    }
   ],
   "source": [
    "lofd[1]['age']"
   ]
  },
  {
   "cell_type": "code",
   "execution_count": 4,
   "metadata": {},
   "outputs": [],
   "source": [
    "lofd.append({'Name': 'Naima', 'age': 26, 'Designation': 'MD'})"
   ]
  },
  {
   "cell_type": "code",
   "execution_count": 5,
   "metadata": {},
   "outputs": [
    {
     "data": {
      "text/plain": [
       "[{'Name': 'Anwar', 'age': 20, 'Desugnation': 'A.M'},\n",
       " {'Name': 'Tahir', 'age': 21, 'Desugnation': 'D.M'},\n",
       " {'Name': 'Ammar', 'age': 22, 'Desugnation': 'Manager'},\n",
       " {'Name': 'Shafiq', 'age': 23, 'Desugnation': 'G.M'},\n",
       " {'Name': 'Afaq', 'age': 24, 'Desugnation': 'Director'},\n",
       " {'Name': 'Naima', 'age': 26, 'Designation': 'MD'}]"
      ]
     },
     "execution_count": 5,
     "metadata": {},
     "output_type": "execute_result"
    }
   ],
   "source": [
    "lofd"
   ]
  },
  {
   "cell_type": "code",
   "execution_count": 6,
   "metadata": {},
   "outputs": [],
   "source": [
    "dofl = {1: ['Anwar', 20, 'A.M'],\n",
    " 2: ['Tahir', 21, 'D.M'],\n",
    " 3: ['Ammar', 22, 'Manager'],\n",
    " 4: ['Shafiq', 23, 'G.M'],\n",
    " 5: ['Afaq', 24, 'Director']}"
   ]
  },
  {
   "cell_type": "code",
   "execution_count": 9,
   "metadata": {},
   "outputs": [
    {
     "data": {
      "text/plain": [
       "'G.M'"
      ]
     },
     "execution_count": 9,
     "metadata": {},
     "output_type": "execute_result"
    }
   ],
   "source": [
    "dofl[4][-1]"
   ]
  },
  {
   "cell_type": "code",
   "execution_count": 15,
   "metadata": {},
   "outputs": [
    {
     "data": {
      "text/plain": [
       "{'discount': {'Standard': '3%', 'Volume': '8%', 'loyalty': '10%'}}"
      ]
     },
     "execution_count": 15,
     "metadata": {},
     "output_type": "execute_result"
    }
   ],
   "source": [
    "discount = {\"discount\":{\"Standard\":\"3%\",\"Volume\":\"8%\", \"loyalty\":\"10%\"}}\n",
    "discount"
   ]
  },
  {
   "cell_type": "code",
   "execution_count": 18,
   "metadata": {},
   "outputs": [
    {
     "data": {
      "text/plain": [
       "'8%'"
      ]
     },
     "execution_count": 18,
     "metadata": {},
     "output_type": "execute_result"
    }
   ],
   "source": [
    "discount[\"discount\"]['Volume']"
   ]
  },
  {
   "cell_type": "markdown",
   "metadata": {},
   "source": [
    "# Membership Operator \n",
    "\n",
    "* in"
   ]
  },
  {
   "cell_type": "code",
   "execution_count": 19,
   "metadata": {},
   "outputs": [],
   "source": [
    "animal = [\"cat\",\"dog\",\"cow\"]"
   ]
  },
  {
   "cell_type": "code",
   "execution_count": 21,
   "metadata": {},
   "outputs": [
    {
     "data": {
      "text/plain": [
       "True"
      ]
     },
     "execution_count": 21,
     "metadata": {},
     "output_type": "execute_result"
    }
   ],
   "source": [
    "\"cow\" in animal"
   ]
  },
  {
   "cell_type": "code",
   "execution_count": 22,
   "metadata": {},
   "outputs": [
    {
     "data": {
      "text/plain": [
       "True"
      ]
     },
     "execution_count": 22,
     "metadata": {},
     "output_type": "execute_result"
    }
   ],
   "source": [
    "1 in dofl"
   ]
  },
  {
   "cell_type": "code",
   "execution_count": 24,
   "metadata": {},
   "outputs": [
    {
     "name": "stdout",
     "output_type": "stream",
     "text": [
      "this is the incorrect key\n"
     ]
    }
   ],
   "source": [
    "if 6 in dofl:\n",
    "    print(\"this is the correct key\")\n",
    "else:\n",
    "    print(\"this is the incorrect key\")"
   ]
  },
  {
   "cell_type": "code",
   "execution_count": 25,
   "metadata": {},
   "outputs": [],
   "source": [
    "animal = [\"cat\",\"dog\",\"cow\",\"cat\",\"dog\",\"cow\",\"cat\",\"dog\",\"cow\",\"cat\",\"dog\",\"cow\",\"cat\",\"dog\",\"cow\",\"cat\",\"dog\",\"cow\",\"cat\",\"dog\",\"cow\",\"cat\",\"dog\",\"cow\",\"cat\",\"dog\",\"cow\",\"cat\",\"dog\",\"cow\",\"cat\",\"dog\",\"cow\",\"cat\",\"dog\",\"cow\",\"cat\",\"dog\",\"cow\",\"cat\",\"dog\",\"cow\",\"cat\",\"dog\",\"cow\",\"cat\",\"dog\",\"cow\",\"cat\",\"dog\",\"cow\",\"cat\",\"dog\",\"cow\",\"cat\",\"dog\",\"cow\",\"cat\",\"dog\",\"cow\",\"cat\",\"dog\",\"cow\",\"cat\",\"dog\",\"cow\",\"cat\",\"dog\",\"cow\",\"cat\",\"dog\",\"cow\",\"cat\",\"dog\",\"cow\",\"cat\",\"dog\",\"cow\",\"cat\",\"dog\",\"cow\"]"
   ]
  },
  {
   "cell_type": "code",
   "execution_count": 26,
   "metadata": {},
   "outputs": [
    {
     "data": {
      "text/plain": [
       "81"
      ]
     },
     "execution_count": 26,
     "metadata": {},
     "output_type": "execute_result"
    }
   ],
   "source": [
    "len(animal)"
   ]
  },
  {
   "cell_type": "code",
   "execution_count": 30,
   "metadata": {},
   "outputs": [
    {
     "data": {
      "text/plain": [
       "{'cat': 27, 'dog': 27, 'cow': 27}"
      ]
     },
     "execution_count": 30,
     "metadata": {},
     "output_type": "execute_result"
    }
   ],
   "source": [
    "freq_dict = {}\n",
    "\n",
    "for i in animal:\n",
    "    if i in freq_dict:\n",
    "        freq_dict[i] += 1\n",
    "    else:\n",
    "        freq_dict[i] = 1\n",
    "freq_dict"
   ]
  },
  {
   "cell_type": "code",
   "execution_count": 33,
   "metadata": {},
   "outputs": [
    {
     "data": {
      "text/plain": [
       "Counter({'cat': 27, 'dog': 27, 'cow': 27})"
      ]
     },
     "execution_count": 33,
     "metadata": {},
     "output_type": "execute_result"
    }
   ],
   "source": [
    "import collections\n",
    "\n",
    "collections.Counter(animal)"
   ]
  },
  {
   "cell_type": "markdown",
   "metadata": {},
   "source": [
    "# 41 Functions"
   ]
  },
  {
   "cell_type": "markdown",
   "metadata": {},
   "source": [
    "$$f(x) = 3x + 1$$\n",
    "$$f(6) -> 19$$"
   ]
  },
  {
   "cell_type": "code",
   "execution_count": 34,
   "metadata": {},
   "outputs": [],
   "source": [
    "def add(x,y):\n",
    "    return x+y"
   ]
  },
  {
   "cell_type": "code",
   "execution_count": 35,
   "metadata": {},
   "outputs": [
    {
     "data": {
      "text/plain": [
       "7"
      ]
     },
     "execution_count": 35,
     "metadata": {},
     "output_type": "execute_result"
    }
   ],
   "source": [
    "add(2,5)"
   ]
  },
  {
   "cell_type": "code",
   "execution_count": 36,
   "metadata": {},
   "outputs": [
    {
     "data": {
      "text/plain": [
       "17"
      ]
     },
     "execution_count": 36,
     "metadata": {},
     "output_type": "execute_result"
    }
   ],
   "source": [
    "add(8,9)"
   ]
  },
  {
   "cell_type": "code",
   "execution_count": 37,
   "metadata": {},
   "outputs": [
    {
     "data": {
      "text/plain": [
       "7.7"
      ]
     },
     "execution_count": 37,
     "metadata": {},
     "output_type": "execute_result"
    }
   ],
   "source": [
    "add(2.3,5.4)"
   ]
  },
  {
   "cell_type": "code",
   "execution_count": 38,
   "metadata": {},
   "outputs": [],
   "source": [
    "def freq_table(lst):\n",
    "\n",
    "    freq_dict = {}\n",
    "\n",
    "    for i in lst:\n",
    "        if i in freq_dict:\n",
    "            freq_dict[i] += 1\n",
    "        else:\n",
    "            freq_dict[i] = 1\n",
    "    return freq_dict"
   ]
  },
  {
   "cell_type": "code",
   "execution_count": 39,
   "metadata": {},
   "outputs": [
    {
     "data": {
      "text/plain": [
       "{'cat': 27, 'dog': 27, 'cow': 27}"
      ]
     },
     "execution_count": 39,
     "metadata": {},
     "output_type": "execute_result"
    }
   ],
   "source": [
    "freq_table(animal)"
   ]
  },
  {
   "cell_type": "code",
   "execution_count": 40,
   "metadata": {},
   "outputs": [],
   "source": [
    "fruits = [\"Apple\", \"grapes\", \"mango\",\"grapes\", \"mango\",\"grapes\", \"mango\",\"Apple\", \"grapes\"]"
   ]
  },
  {
   "cell_type": "code",
   "execution_count": 41,
   "metadata": {},
   "outputs": [
    {
     "data": {
      "text/plain": [
       "{'Apple': 2, 'grapes': 4, 'mango': 3}"
      ]
     },
     "execution_count": 41,
     "metadata": {},
     "output_type": "execute_result"
    }
   ],
   "source": [
    "freq_table(fruits)"
   ]
  },
  {
   "cell_type": "code",
   "execution_count": 52,
   "metadata": {},
   "outputs": [],
   "source": [
    "def keyvalue(dic):\n",
    "    for key, value in dic.items():\n",
    "        print(key, value)\n",
    "    "
   ]
  },
  {
   "cell_type": "code",
   "execution_count": 53,
   "metadata": {},
   "outputs": [
    {
     "name": "stdout",
     "output_type": "stream",
     "text": [
      "Name Naima\n",
      "age 26\n",
      "Designation MD\n"
     ]
    }
   ],
   "source": [
    "keyvalue({'Name': 'Naima', 'age': 26, 'Designation': 'MD'})"
   ]
  },
  {
   "cell_type": "code",
   "execution_count": 44,
   "metadata": {},
   "outputs": [
    {
     "name": "stdout",
     "output_type": "stream",
     "text": [
      "Name Naima\n",
      "age 26\n",
      "Designation MD\n"
     ]
    }
   ],
   "source": [
    "for key, value in {'Name': 'Naima', 'age': 26, 'Designation': 'MD'}.items():\n",
    "    print(key,value)"
   ]
  },
  {
   "cell_type": "code",
   "execution_count": null,
   "metadata": {},
   "outputs": [],
   "source": []
  }
 ],
 "metadata": {
  "kernelspec": {
   "display_name": "Python 3",
   "language": "python",
   "name": "python3"
  },
  "language_info": {
   "codemirror_mode": {
    "name": "ipython",
    "version": 3
   },
   "file_extension": ".py",
   "mimetype": "text/x-python",
   "name": "python",
   "nbconvert_exporter": "python",
   "pygments_lexer": "ipython3",
   "version": "3.7.1"
  }
 },
 "nbformat": 4,
 "nbformat_minor": 2
}
