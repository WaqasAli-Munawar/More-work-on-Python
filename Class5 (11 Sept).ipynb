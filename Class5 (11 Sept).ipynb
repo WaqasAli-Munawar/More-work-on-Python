{
 "cells": [
  {
   "cell_type": "markdown",
   "metadata": {},
   "source": [
    "# 23 Getting information from the user and converting strings and numbers"
   ]
  },
  {
   "cell_type": "code",
   "execution_count": 62,
   "metadata": {},
   "outputs": [
    {
     "name": "stdout",
     "output_type": "stream",
     "text": [
      "Please mention your gender M\n",
      "Please mention your age27\n"
     ]
    },
    {
     "data": {
      "text/plain": [
       "'M27'"
      ]
     },
     "execution_count": 62,
     "metadata": {},
     "output_type": "execute_result"
    }
   ],
   "source": [
    "gender = input(\"Please mention your gender \")\n",
    "age  = input(\"Please mention your age\")\n",
    "\n",
    "gender + age"
   ]
  },
  {
   "cell_type": "code",
   "execution_count": 4,
   "metadata": {},
   "outputs": [
    {
     "name": "stdout",
     "output_type": "stream",
     "text": [
      "Please mention your age 27\n",
      "After five years, he/she would be 32\n"
     ]
    }
   ],
   "source": [
    "age  = input(\"Please mention your age \")\n",
    "\n",
    "\n",
    "print(\"After five years, he/she would be\", int(age) + 5)"
   ]
  },
  {
   "cell_type": "code",
   "execution_count": 40,
   "metadata": {},
   "outputs": [
    {
     "name": "stdout",
     "output_type": "stream",
     "text": [
      "Please advise where to start a table 2\n",
      "Advise your last table to show 6\n",
      "2 x 1 = 2\t3 x 1 = 3\t4 x 1 = 4\t5 x 1 = 5\t6 x 1 = 6\t\n",
      "2 x 2 = 4\t3 x 2 = 6\t4 x 2 = 8\t5 x 2 = 10\t6 x 2 = 12\t\n",
      "2 x 3 = 6\t3 x 3 = 9\t4 x 3 = 12\t5 x 3 = 15\t6 x 3 = 18\t\n",
      "2 x 4 = 8\t3 x 4 = 12\t4 x 4 = 16\t5 x 4 = 20\t6 x 4 = 24\t\n",
      "2 x 5 = 10\t3 x 5 = 15\t4 x 5 = 20\t5 x 5 = 25\t6 x 5 = 30\t\n",
      "2 x 6 = 12\t3 x 6 = 18\t4 x 6 = 24\t5 x 6 = 30\t6 x 6 = 36\t\n",
      "2 x 7 = 14\t3 x 7 = 21\t4 x 7 = 28\t5 x 7 = 35\t6 x 7 = 42\t\n",
      "2 x 8 = 16\t3 x 8 = 24\t4 x 8 = 32\t5 x 8 = 40\t6 x 8 = 48\t\n",
      "2 x 9 = 18\t3 x 9 = 27\t4 x 9 = 36\t5 x 9 = 45\t6 x 9 = 54\t\n",
      "2 x 10 = 20\t3 x 10 = 30\t4 x 10 = 40\t5 x 10 = 50\t6 x 10 = 60\t\n"
     ]
    }
   ],
   "source": [
    "start = input(\"Please advise where to start a table \")\n",
    "end =  input(\"Advise your last table to show \")\n",
    "\n",
    "for i in range(1,11):\n",
    "    for j in range(int(start),int(end) + 1):\n",
    "        print(j,\"x\", i, \"=\", j*i, end = \"\\t\")\n",
    "        \n",
    "    print()\n",
    "        "
   ]
  },
  {
   "cell_type": "code",
   "execution_count": 28,
   "metadata": {},
   "outputs": [
    {
     "data": {
      "text/plain": [
       "True"
      ]
     },
     "execution_count": 28,
     "metadata": {},
     "output_type": "execute_result"
    }
   ],
   "source": [
    "5 == 5.0"
   ]
  },
  {
   "cell_type": "markdown",
   "metadata": {},
   "source": [
    "# 24 Changing case"
   ]
  },
  {
   "cell_type": "code",
   "execution_count": 29,
   "metadata": {},
   "outputs": [
    {
     "name": "stdout",
     "output_type": "stream",
     "text": [
      "waqas\n",
      "waqas\n",
      "WAQAS\n",
      "ANWAR ALI\n",
      "Anwar ali\n",
      "Anwar ali\n",
      "Anwar Ali\n"
     ]
    }
   ],
   "source": [
    "print(\"Waqas\".lower())\n",
    "print(\"WAQAS\".lower())\n",
    "print(\"Waqas\".upper())\n",
    "print(\"Anwar Ali\".upper())\n",
    "print(\"Anwar Ali\".capitalize())\n",
    "print(\"aNWAR Ali\".capitalize())\n",
    "print(\"aNWAR aLI\".title())"
   ]
  },
  {
   "cell_type": "code",
   "execution_count": 30,
   "metadata": {},
   "outputs": [
    {
     "data": {
      "text/plain": [
       "['Cheyenne',\n",
       " 'cheyenne',\n",
       " 'SantaFe',\n",
       " 'santa fe',\n",
       " 'Tucson',\n",
       " 'tucson',\n",
       " 'Great Falls',\n",
       " 'great falls',\n",
       " 'Honolulu',\n",
       " 'honolulu']"
      ]
     },
     "execution_count": 30,
     "metadata": {},
     "output_type": "execute_result"
    }
   ],
   "source": [
    "cleanest_cities = [\"Cheyenne\", \"cheyenne\", \"SantaFe\", \"santa fe\", \"Tucson\", \"tucson\", \"Great Falls\",\n",
    "\"great falls\", \"Honolulu\", \"honolulu\"]\n",
    "\n",
    "for city in cleanest_cities:\n",
    "    city.upper()\n",
    "    \n",
    "cleanest_cities\n"
   ]
  },
  {
   "cell_type": "code",
   "execution_count": 34,
   "metadata": {},
   "outputs": [
    {
     "data": {
      "text/plain": [
       "['CHEYENNE',\n",
       " 'CHEYENNE',\n",
       " 'SANTAFE',\n",
       " 'SANTA FE',\n",
       " 'TUCSON',\n",
       " 'TUCSON',\n",
       " 'GREAT FALLS',\n",
       " 'GREAT FALLS',\n",
       " 'HONOLULU',\n",
       " 'HONOLULU']"
      ]
     },
     "execution_count": 34,
     "metadata": {},
     "output_type": "execute_result"
    }
   ],
   "source": [
    "cleanest_citiess = []\n",
    "for city in cleanest_cities:\n",
    "    up_value = city.upper()\n",
    "    cleanest_citiess.append(up_value)\n",
    "    \n",
    "cleanest_citiess"
   ]
  },
  {
   "cell_type": "code",
   "execution_count": 39,
   "metadata": {},
   "outputs": [
    {
     "data": {
      "text/plain": [
       "['CHEYENNE',\n",
       " 'CHEYENNE',\n",
       " 'SANTAFE',\n",
       " 'SANTA FE',\n",
       " 'TUCSON',\n",
       " 'TUCSON',\n",
       " 'GREAT FALLS',\n",
       " 'GREAT FALLS',\n",
       " 'HONOLULU',\n",
       " 'HONOLULU']"
      ]
     },
     "execution_count": 39,
     "metadata": {},
     "output_type": "execute_result"
    }
   ],
   "source": [
    "cleanest_cities\n",
    "\n",
    "for i in range (len(cleanest_cities)):\n",
    "    cleanest_cities[i] =  cleanest_cities[i].upper()\n",
    "\n",
    "cleanest_cities"
   ]
  },
  {
   "cell_type": "markdown",
   "metadata": {},
   "source": [
    "# 25 Dictionaries: What they are"
   ]
  },
  {
   "cell_type": "code",
   "execution_count": null,
   "metadata": {},
   "outputs": [],
   "source": [
    "employee = [\"Ali\", 27, 300000]"
   ]
  },
  {
   "cell_type": "markdown",
   "metadata": {},
   "source": [
    "Dictionary is a Key Vlaue pair"
   ]
  },
  {
   "cell_type": "code",
   "execution_count": 41,
   "metadata": {},
   "outputs": [],
   "source": [
    "employee = {\"Name\":\"Ali\",\"age\":27,\"Salary\":300000}"
   ]
  },
  {
   "cell_type": "code",
   "execution_count": 44,
   "metadata": {},
   "outputs": [
    {
     "data": {
      "text/plain": [
       "('Ali', 27, 300000)"
      ]
     },
     "execution_count": 44,
     "metadata": {},
     "output_type": "execute_result"
    }
   ],
   "source": [
    "employee[\"Name\"], employee[\"age\"],employee[\"Salary\"]"
   ]
  },
  {
   "cell_type": "code",
   "execution_count": 45,
   "metadata": {},
   "outputs": [
    {
     "ename": "KeyError",
     "evalue": "0",
     "output_type": "error",
     "traceback": [
      "\u001b[1;31m---------------------------------------------------------------------------\u001b[0m",
      "\u001b[1;31mKeyError\u001b[0m                                  Traceback (most recent call last)",
      "\u001b[1;32m<ipython-input-45-da229c5dc25c>\u001b[0m in \u001b[0;36m<module>\u001b[1;34m\u001b[0m\n\u001b[1;32m----> 1\u001b[1;33m \u001b[0memployee\u001b[0m\u001b[1;33m[\u001b[0m\u001b[1;36m0\u001b[0m\u001b[1;33m]\u001b[0m\u001b[1;33m\u001b[0m\u001b[1;33m\u001b[0m\u001b[0m\n\u001b[0m",
      "\u001b[1;31mKeyError\u001b[0m: 0"
     ]
    }
   ],
   "source": [
    "employee[0]"
   ]
  },
  {
   "cell_type": "code",
   "execution_count": 46,
   "metadata": {},
   "outputs": [],
   "source": [
    "employee[\"age\"] = 28"
   ]
  },
  {
   "cell_type": "code",
   "execution_count": 47,
   "metadata": {},
   "outputs": [
    {
     "data": {
      "text/plain": [
       "{'Name': 'Ali', 'age': 28, 'Salary': 300000}"
      ]
     },
     "execution_count": 47,
     "metadata": {},
     "output_type": "execute_result"
    }
   ],
   "source": [
    "employee"
   ]
  },
  {
   "cell_type": "code",
   "execution_count": 48,
   "metadata": {},
   "outputs": [],
   "source": [
    "employee[\"Designation\"] = \"Manager\""
   ]
  },
  {
   "cell_type": "code",
   "execution_count": 49,
   "metadata": {},
   "outputs": [
    {
     "data": {
      "text/plain": [
       "{'Name': 'Ali', 'age': 28, 'Salary': 300000, 'Designation': 'Manager'}"
      ]
     },
     "execution_count": 49,
     "metadata": {},
     "output_type": "execute_result"
    }
   ],
   "source": [
    "employee"
   ]
  },
  {
   "cell_type": "code",
   "execution_count": 51,
   "metadata": {},
   "outputs": [],
   "source": [
    "employee1 = {}"
   ]
  },
  {
   "cell_type": "code",
   "execution_count": 52,
   "metadata": {},
   "outputs": [
    {
     "data": {
      "text/plain": [
       "{'Name': 'Babar', 'age': 35, 'Salary': 400000, 'Designation': 'G.M'}"
      ]
     },
     "execution_count": 52,
     "metadata": {},
     "output_type": "execute_result"
    }
   ],
   "source": [
    "employee1[\"Name\"] = \"Babar\"\n",
    "employee1[\"age\"] = 35\n",
    "employee1[\"Salary\"] = 400000\n",
    "employee1[\"Designation\"] = \"G.M\"\n",
    "\n",
    "employee1"
   ]
  },
  {
   "cell_type": "code",
   "execution_count": 53,
   "metadata": {},
   "outputs": [],
   "source": [
    "employee_name = [\"Anwar\", \"Tahir\",\"Ammar\", \"Shafiq\", \"Afaq\"]\n",
    "employee_age = [20,21,22,23,24,25]\n",
    "employee_desig = [\"A.M\",\"D.M\", \"Manager\", \"G.M\", \"Director\"]"
   ]
  },
  {
   "cell_type": "code",
   "execution_count": null,
   "metadata": {},
   "outputs": [],
   "source": [
    "# emplyees = [{\"Name\":\"Anwar\", \"age\":20, \"Designation\": \"A.M\"}, {\"Name\":\"Anwar\", \"age\":20, \"Designation\": \"A.M\"}]"
   ]
  },
  {
   "cell_type": "code",
   "execution_count": 54,
   "metadata": {},
   "outputs": [],
   "source": [
    "employees = []"
   ]
  },
  {
   "cell_type": "code",
   "execution_count": 55,
   "metadata": {},
   "outputs": [],
   "source": [
    "for i in range(5):\n",
    "    employee = {}\n",
    "    employee[\"Name\"] = employee_name[i]\n",
    "    employee[\"age\"] = employee_age[i]\n",
    "    employee[\"Desugnation\"] = employee_desig[i]\n",
    "    employees.append(employee)"
   ]
  },
  {
   "cell_type": "code",
   "execution_count": 56,
   "metadata": {},
   "outputs": [
    {
     "data": {
      "text/plain": [
       "[{'Name': 'Anwar', 'age': 20, 'Desugnation': 'A.M'},\n",
       " {'Name': 'Tahir', 'age': 21, 'Desugnation': 'D.M'},\n",
       " {'Name': 'Ammar', 'age': 22, 'Desugnation': 'Manager'},\n",
       " {'Name': 'Shafiq', 'age': 23, 'Desugnation': 'G.M'},\n",
       " {'Name': 'Afaq', 'age': 24, 'Desugnation': 'Director'}]"
      ]
     },
     "execution_count": 56,
     "metadata": {},
     "output_type": "execute_result"
    }
   ],
   "source": [
    "employees"
   ]
  },
  {
   "cell_type": "code",
   "execution_count": 58,
   "metadata": {},
   "outputs": [],
   "source": [
    "anwar = {'Name': 'Anwar', 'age': 20, 'Desugnation': 'A.M'}\n",
    "tahir =  {'Name': 'Tahir', 'age': 21, 'Desugnation': 'D.M'}\n",
    "ammar =  {'Name': 'Ammar', 'age': 22, 'Desugnation': 'Manager'}\n",
    "shafiq =  {'Name': 'Shafiq', 'age': 23, 'Desugnation': 'G.M'}\n",
    "afaq = {'Name': 'Afaq', 'age': 24, 'Desugnation': 'Director'}"
   ]
  },
  {
   "cell_type": "code",
   "execution_count": null,
   "metadata": {},
   "outputs": [],
   "source": [
    "{1:{'Name': 'Anwar', 'age': 20, 'Desugnation': 'A.M'},2 :{'Name': 'Tahir', 'age': 21, 'Desugnation': 'D.M'}} }"
   ]
  },
  {
   "cell_type": "code",
   "execution_count": 60,
   "metadata": {},
   "outputs": [
    {
     "data": {
      "text/plain": [
       "[{'Name': 'Anwar', 'age': 20, 'Desugnation': 'A.M'},\n",
       " {'Name': 'Tahir', 'age': 21, 'Desugnation': 'D.M'},\n",
       " {'Name': 'Ammar', 'age': 22, 'Desugnation': 'Manager'},\n",
       " {'Name': 'Shafiq', 'age': 23, 'Desugnation': 'G.M'},\n",
       " {'Name': 'Afaq', 'age': 24, 'Desugnation': 'Director'}]"
      ]
     },
     "execution_count": 60,
     "metadata": {},
     "output_type": "execute_result"
    }
   ],
   "source": [
    "lst = [anwar,tahir, ammar, shafiq, afaq]\n",
    "lst"
   ]
  },
  {
   "cell_type": "code",
   "execution_count": 61,
   "metadata": {},
   "outputs": [
    {
     "data": {
      "text/plain": [
       "{1: {'Name': 'Anwar', 'age': 20, 'Desugnation': 'A.M'},\n",
       " 2: {'Name': 'Tahir', 'age': 21, 'Desugnation': 'D.M'},\n",
       " 3: {'Name': 'Ammar', 'age': 22, 'Desugnation': 'Manager'},\n",
       " 4: {'Name': 'Shafiq', 'age': 23, 'Desugnation': 'G.M'},\n",
       " 5: {'Name': 'Afaq', 'age': 24, 'Desugnation': 'Director'}}"
      ]
     },
     "execution_count": 61,
     "metadata": {},
     "output_type": "execute_result"
    }
   ],
   "source": [
    "client_dict = {}\n",
    "for i in range(5):\n",
    "    client_dict[i+1] = lst[i]\n",
    "\n",
    "client_dict"
   ]
  },
  {
   "cell_type": "code",
   "execution_count": 68,
   "metadata": {},
   "outputs": [
    {
     "data": {
      "text/plain": [
       "{1: ['Anwar', 20, 'A.M'],\n",
       " 2: ['Tahir', 21, 'D.M'],\n",
       " 3: ['Ammar', 22, 'Manager'],\n",
       " 4: ['Shafiq', 23, 'G.M'],\n",
       " 5: ['Afaq', 24, 'Director']}"
      ]
     },
     "execution_count": 68,
     "metadata": {},
     "output_type": "execute_result"
    }
   ],
   "source": [
    "client_dict = {}\n",
    "for i in range(5):\n",
    "    client_dict[i+1] = [lst[i][\"Name\"],lst[i][\"age\"], lst[i][\"Desugnation\"]]\n",
    "\n",
    "client_dict"
   ]
  },
  {
   "cell_type": "code",
   "execution_count": 1,
   "metadata": {},
   "outputs": [],
   "source": [
    "employee = {\"Name\":\"Saad\", \"age\":27, \"Designation\":\"D.M\"}"
   ]
  },
  {
   "cell_type": "code",
   "execution_count": 4,
   "metadata": {},
   "outputs": [
    {
     "name": "stdout",
     "output_type": "stream",
     "text": [
      "Saad\n",
      "27\n",
      "D.M\n"
     ]
    }
   ],
   "source": [
    "for key, value in employee.items()\n",
    "for i in employee.values(): \n",
    "    print(i)"
   ]
  },
  {
   "cell_type": "code",
   "execution_count": 5,
   "metadata": {},
   "outputs": [
    {
     "name": "stdout",
     "output_type": "stream",
     "text": [
      "Name Saad\n",
      "age 27\n",
      "Designation D.M\n"
     ]
    }
   ],
   "source": [
    "for key, value in employee.items():\n",
    "    print(key, value)"
   ]
  },
  {
   "cell_type": "code",
   "execution_count": 7,
   "metadata": {},
   "outputs": [
    {
     "name": "stdout",
     "output_type": "stream",
     "text": [
      "Name Saad\n",
      "age 27\n",
      "Designation D.M\n"
     ]
    }
   ],
   "source": [
    "for key in employee:\n",
    "    print(key, employee[key])"
   ]
  },
  {
   "cell_type": "code",
   "execution_count": 9,
   "metadata": {},
   "outputs": [
    {
     "name": "stdout",
     "output_type": "stream",
     "text": [
      "<class 'dict_keys'>\n",
      "<class 'dict_values'>\n",
      "<class 'dict_items'>\n"
     ]
    }
   ],
   "source": [
    "print(type(employee.keys()))\n",
    "print(type(employee.values()))\n",
    "print(type(employee.items()))"
   ]
  },
  {
   "cell_type": "code",
   "execution_count": 11,
   "metadata": {},
   "outputs": [
    {
     "name": "stdout",
     "output_type": "stream",
     "text": [
      "['Name', 'age', 'Designation']\n",
      "['Saad', 27, 'D.M']\n",
      "[('Name', 'Saad'), ('age', 27), ('Designation', 'D.M')]\n"
     ]
    }
   ],
   "source": [
    "print(list(employee.keys()))\n",
    "print(list(employee.values()))\n",
    "print(list(employee.items()))"
   ]
  },
  {
   "cell_type": "code",
   "execution_count": 14,
   "metadata": {},
   "outputs": [
    {
     "data": {
      "text/plain": [
       "3"
      ]
     },
     "execution_count": 14,
     "metadata": {},
     "output_type": "execute_result"
    }
   ],
   "source": [
    "len(employee)"
   ]
  },
  {
   "cell_type": "code",
   "execution_count": 15,
   "metadata": {},
   "outputs": [
    {
     "data": {
      "text/plain": [
       "{'Name': 'Saad', 'age': 27, 'Designation': 'D.M'}"
      ]
     },
     "execution_count": 15,
     "metadata": {},
     "output_type": "execute_result"
    }
   ],
   "source": [
    "employee"
   ]
  },
  {
   "cell_type": "code",
   "execution_count": 16,
   "metadata": {},
   "outputs": [],
   "source": [
    "del employee['Name']"
   ]
  },
  {
   "cell_type": "code",
   "execution_count": 17,
   "metadata": {},
   "outputs": [
    {
     "data": {
      "text/plain": [
       "{'age': 27, 'Designation': 'D.M'}"
      ]
     },
     "execution_count": 17,
     "metadata": {},
     "output_type": "execute_result"
    }
   ],
   "source": [
    "employee"
   ]
  },
  {
   "cell_type": "code",
   "execution_count": null,
   "metadata": {},
   "outputs": [],
   "source": []
  }
 ],
 "metadata": {
  "kernelspec": {
   "display_name": "Python 3",
   "language": "python",
   "name": "python3"
  },
  "language_info": {
   "codemirror_mode": {
    "name": "ipython",
    "version": 3
   },
   "file_extension": ".py",
   "mimetype": "text/x-python",
   "name": "python",
   "nbconvert_exporter": "python",
   "pygments_lexer": "ipython3",
   "version": "3.7.1"
  }
 },
 "nbformat": 4,
 "nbformat_minor": 2
}
