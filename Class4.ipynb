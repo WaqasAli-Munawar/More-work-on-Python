{
 "cells": [
  {
   "cell_type": "markdown",
   "metadata": {},
   "source": [
    "# Tuple "
   ]
  },
  {
   "cell_type": "code",
   "execution_count": 101,
   "metadata": {},
   "outputs": [
    {
     "data": {
      "text/plain": [
       "tuple"
      ]
     },
     "execution_count": 101,
     "metadata": {},
     "output_type": "execute_result"
    }
   ],
   "source": [
    "a = 1,\n",
    "type(a)"
   ]
  },
  {
   "cell_type": "code",
   "execution_count": 102,
   "metadata": {},
   "outputs": [],
   "source": [
    "a = (1,2,3, \"Tuple made by me\")"
   ]
  },
  {
   "cell_type": "code",
   "execution_count": 103,
   "metadata": {},
   "outputs": [
    {
     "name": "stdout",
     "output_type": "stream",
     "text": [
      "1\n"
     ]
    },
    {
     "data": {
      "text/plain": [
       "1"
      ]
     },
     "execution_count": 103,
     "metadata": {},
     "output_type": "execute_result"
    }
   ],
   "source": [
    "print(a.count(2))\n",
    "a.index(2)"
   ]
  },
  {
   "cell_type": "code",
   "execution_count": 104,
   "metadata": {},
   "outputs": [
    {
     "data": {
      "text/plain": [
       "4"
      ]
     },
     "execution_count": 104,
     "metadata": {},
     "output_type": "execute_result"
    }
   ],
   "source": [
    "len(a)"
   ]
  },
  {
   "cell_type": "code",
   "execution_count": 105,
   "metadata": {},
   "outputs": [
    {
     "data": {
      "text/plain": [
       "(2, 3)"
      ]
     },
     "execution_count": 105,
     "metadata": {},
     "output_type": "execute_result"
    }
   ],
   "source": [
    "a[1:3]"
   ]
  },
  {
   "cell_type": "code",
   "execution_count": 106,
   "metadata": {},
   "outputs": [
    {
     "data": {
      "text/plain": [
       "(1, 2, 3, 'Tuple made by me')"
      ]
     },
     "execution_count": 106,
     "metadata": {},
     "output_type": "execute_result"
    }
   ],
   "source": [
    "a"
   ]
  },
  {
   "cell_type": "code",
   "execution_count": 107,
   "metadata": {},
   "outputs": [
    {
     "data": {
      "text/plain": [
       "([3, 4, 5], 'tupple', 4.3)"
      ]
     },
     "execution_count": 107,
     "metadata": {},
     "output_type": "execute_result"
    }
   ],
   "source": [
    "b = ([3,4,5], \"tupple\", 4.3)\n",
    "b"
   ]
  },
  {
   "cell_type": "code",
   "execution_count": 108,
   "metadata": {},
   "outputs": [],
   "source": [
    "b[0].append(8)"
   ]
  },
  {
   "cell_type": "code",
   "execution_count": 109,
   "metadata": {},
   "outputs": [
    {
     "data": {
      "text/plain": [
       "([3, 4, 5, 8], 'tupple', 4.3)"
      ]
     },
     "execution_count": 109,
     "metadata": {},
     "output_type": "execute_result"
    }
   ],
   "source": [
    "b"
   ]
  },
  {
   "cell_type": "code",
   "execution_count": 110,
   "metadata": {},
   "outputs": [],
   "source": [
    "a = 3"
   ]
  },
  {
   "cell_type": "code",
   "execution_count": 111,
   "metadata": {},
   "outputs": [
    {
     "data": {
      "text/plain": [
       "4"
      ]
     },
     "execution_count": 111,
     "metadata": {},
     "output_type": "execute_result"
    }
   ],
   "source": [
    "int(4.3)"
   ]
  },
  {
   "cell_type": "markdown",
   "metadata": {},
   "source": [
    "# For Loops"
   ]
  },
  {
   "cell_type": "code",
   "execution_count": 112,
   "metadata": {},
   "outputs": [],
   "source": [
    "employees = [['Ali', 27, 300000, 'D.M', 'Male'],\n",
    " ['Shafiq', 22, 80000, 'A.M', 'Male'],\n",
    " ['Shazia', 35, 400000, 'Director', 'Female'],\n",
    " ['Sadia', 25, 70000, 'A.M', 'Female']]"
   ]
  },
  {
   "cell_type": "code",
   "execution_count": 113,
   "metadata": {},
   "outputs": [
    {
     "data": {
      "text/plain": [
       "[['Ali', 27, 300000, 'D.M', 'Male'],\n",
       " ['Shafiq', 22, 80000, 'A.M', 'Male'],\n",
       " ['Shazia', 35, 400000, 'Director', 'Female'],\n",
       " ['Sadia', 25, 70000, 'A.M', 'Female']]"
      ]
     },
     "execution_count": 113,
     "metadata": {},
     "output_type": "execute_result"
    }
   ],
   "source": [
    "employees"
   ]
  },
  {
   "cell_type": "code",
   "execution_count": 114,
   "metadata": {},
   "outputs": [],
   "source": [
    "name_salary = []\n",
    "for employee in employees:\n",
    "    # print(employee)\n",
    "    # name_salary.append((employee[0],employee[2]))\n",
    "    name_salary.append(((employee[0]+ \" \" + str(employee[2]))))"
   ]
  },
  {
   "cell_type": "code",
   "execution_count": 115,
   "metadata": {},
   "outputs": [
    {
     "data": {
      "text/plain": [
       "['Ali 300000', 'Shafiq 80000', 'Shazia 400000', 'Sadia 70000']"
      ]
     },
     "execution_count": 115,
     "metadata": {},
     "output_type": "execute_result"
    }
   ],
   "source": [
    "name_salary"
   ]
  },
  {
   "cell_type": "code",
   "execution_count": 116,
   "metadata": {},
   "outputs": [
    {
     "data": {
      "text/plain": [
       "[['Ali', 27, 300000, 'D.M', 'Male'],\n",
       " ['Shafiq', 22, 80000, 'A.M', 'Male'],\n",
       " ['Shazia', 35, 400000, 'Director', 'Female'],\n",
       " ['Sadia', 25, 70000, 'A.M', 'Female']]"
      ]
     },
     "execution_count": 116,
     "metadata": {},
     "output_type": "execute_result"
    }
   ],
   "source": [
    "employees"
   ]
  },
  {
   "cell_type": "code",
   "execution_count": 117,
   "metadata": {},
   "outputs": [],
   "source": [
    "for i in employees:\n",
    "    salary = i[2]\n",
    "    age = i[1]\n",
    "    gender = i[-1]\n",
    "    # print(salary, age)\n",
    "    if age >= 30 and gender == 'Female':\n",
    "        salary *= 1.1\n",
    "        # print(round(salary))\n",
    "        i[2] = int(salary)\n",
    "        \n"
   ]
  },
  {
   "cell_type": "code",
   "execution_count": 118,
   "metadata": {},
   "outputs": [
    {
     "data": {
      "text/plain": [
       "[['Ali', 27, 300000, 'D.M', 'Male'],\n",
       " ['Shafiq', 22, 80000, 'A.M', 'Male'],\n",
       " ['Shazia', 35, 440000, 'Director', 'Female'],\n",
       " ['Sadia', 25, 70000, 'A.M', 'Female']]"
      ]
     },
     "execution_count": 118,
     "metadata": {},
     "output_type": "execute_result"
    }
   ],
   "source": [
    "employees    "
   ]
  },
  {
   "cell_type": "code",
   "execution_count": 119,
   "metadata": {
    "scrolled": true
   },
   "outputs": [
    {
     "name": "stdout",
     "output_type": "stream",
     "text": [
      "0 ['Ali', 27, 300000, 'D.M', 'Male']\n",
      "1 ['Shafiq', 22, 80000, 'A.M', 'Male']\n",
      "2 ['Shazia', 35, 440000, 'Director', 'Female']\n",
      "3 ['Sadia', 25, 70000, 'A.M', 'Female']\n"
     ]
    }
   ],
   "source": [
    "for index, value in enumerate(employees):\n",
    "    print(index, value)"
   ]
  },
  {
   "cell_type": "markdown",
   "metadata": {},
   "source": [
    "# for loops nested 22\n"
   ]
  },
  {
   "cell_type": "code",
   "execution_count": 120,
   "metadata": {},
   "outputs": [],
   "source": [
    "transformed = []\n",
    "for i in employees:\n",
    "    converted = []\n",
    "    for j in i:\n",
    "        a = str(j)\n",
    "        converted.append(a)\n",
    "        # print(type(a))\n",
    "    transformed.append(converted)"
   ]
  },
  {
   "cell_type": "code",
   "execution_count": 121,
   "metadata": {},
   "outputs": [
    {
     "data": {
      "text/plain": [
       "[['Ali', '27', '300000', 'D.M', 'Male'],\n",
       " ['Shafiq', '22', '80000', 'A.M', 'Male'],\n",
       " ['Shazia', '35', '440000', 'Director', 'Female'],\n",
       " ['Sadia', '25', '70000', 'A.M', 'Female']]"
      ]
     },
     "execution_count": 121,
     "metadata": {},
     "output_type": "execute_result"
    }
   ],
   "source": [
    "transformed"
   ]
  },
  {
   "cell_type": "code",
   "execution_count": 122,
   "metadata": {},
   "outputs": [
    {
     "data": {
      "text/plain": [
       "[['Ali', 27, 300000, 'D.M', 'Male'],\n",
       " ['Shafiq', 22, 80000, 'A.M', 'Male'],\n",
       " ['Shazia', 35, 440000, 'Director', 'Female'],\n",
       " ['Sadia', 25, 70000, 'A.M', 'Female']]"
      ]
     },
     "execution_count": 122,
     "metadata": {},
     "output_type": "execute_result"
    }
   ],
   "source": [
    "employees"
   ]
  },
  {
   "cell_type": "code",
   "execution_count": 123,
   "metadata": {},
   "outputs": [],
   "source": [
    "for i in range(len(employees)):\n",
    "    # print(i)\n",
    "    for j in range(len(employees[i])):\n",
    "        # print(str(employees[i][j]))\n",
    "        employees[i][j] = str(employees[i][j])\n",
    "        \n",
    "        "
   ]
  },
  {
   "cell_type": "code",
   "execution_count": 124,
   "metadata": {},
   "outputs": [
    {
     "data": {
      "text/plain": [
       "[['Ali', '27', '300000', 'D.M', 'Male'],\n",
       " ['Shafiq', '22', '80000', 'A.M', 'Male'],\n",
       " ['Shazia', '35', '440000', 'Director', 'Female'],\n",
       " ['Sadia', '25', '70000', 'A.M', 'Female']]"
      ]
     },
     "execution_count": 124,
     "metadata": {},
     "output_type": "execute_result"
    }
   ],
   "source": [
    "employees"
   ]
  },
  {
   "cell_type": "code",
   "execution_count": 127,
   "metadata": {},
   "outputs": [
    {
     "name": "stdout",
     "output_type": "stream",
     "text": [
      "0\n"
     ]
    }
   ],
   "source": [
    "for i in range(1):\n",
    "    print(i)"
   ]
  },
  {
   "cell_type": "code",
   "execution_count": 128,
   "metadata": {},
   "outputs": [
    {
     "data": {
      "text/plain": [
       "[['Masab', 'Asad', 'Hammad'], [10, 11, 12]]"
      ]
     },
     "execution_count": 128,
     "metadata": {},
     "output_type": "execute_result"
    }
   ],
   "source": [
    "name = ['Masab', 'Asad', 'Hammad']\n",
    "age = [10 , 11, 12]\n",
    "\n",
    "gulshan_student = [name, age]\n",
    "\n",
    "gulshan_student"
   ]
  },
  {
   "cell_type": "code",
   "execution_count": 129,
   "metadata": {},
   "outputs": [],
   "source": [
    "divisibleby2 = []\n",
    "divisibleby4 = []\n",
    "divisibleby6 = []\n",
    "divisibleby8 = []"
   ]
  },
  {
   "cell_type": "code",
   "execution_count": 136,
   "metadata": {},
   "outputs": [
    {
     "name": "stdout",
     "output_type": "stream",
     "text": [
      "2 x 1 = 2\t3 x 1 = 3\t4 x 1 = 4\t5 x 1 = 5\t\n",
      "2 x 2 = 4\t3 x 2 = 6\t4 x 2 = 8\t5 x 2 = 10\t\n",
      "2 x 3 = 6\t3 x 3 = 9\t4 x 3 = 12\t5 x 3 = 15\t\n",
      "2 x 4 = 8\t3 x 4 = 12\t4 x 4 = 16\t5 x 4 = 20\t\n",
      "2 x 5 = 10\t3 x 5 = 15\t4 x 5 = 20\t5 x 5 = 25\t\n",
      "2 x 6 = 12\t3 x 6 = 18\t4 x 6 = 24\t5 x 6 = 30\t\n",
      "2 x 7 = 14\t3 x 7 = 21\t4 x 7 = 28\t5 x 7 = 35\t\n",
      "2 x 8 = 16\t3 x 8 = 24\t4 x 8 = 32\t5 x 8 = 40\t\n",
      "2 x 9 = 18\t3 x 9 = 27\t4 x 9 = 36\t5 x 9 = 45\t\n",
      "2 x 10 = 20\t3 x 10 = 30\t4 x 10 = 40\t5 x 10 = 50\t\n"
     ]
    }
   ],
   "source": [
    "for i in range(1,11):\n",
    "    for j in range(2,6):\n",
    "        print(j,\"x\", i, \"=\", j*i, end = \"\\t\")\n",
    "        \n",
    "    print()\n",
    "        \n",
    "        "
   ]
  },
  {
   "cell_type": "code",
   "execution_count": 5,
   "metadata": {},
   "outputs": [
    {
     "name": "stdout",
     "output_type": "stream",
     "text": [
      "2 x 2 = 2\n",
      "2 x 2 = 4\n",
      "2 x 2 = 6\n",
      "2 x 2 = 8\n",
      "2 x 2 = 10\n",
      "2 x 2 = 12\n",
      "2 x 2 = 14\n",
      "2 x 2 = 16\n",
      "2 x 2 = 18\n",
      "2 x 2 = 20\n",
      "\n",
      "3 x 2 = 3\n",
      "3 x 2 = 6\n",
      "3 x 2 = 9\n",
      "3 x 2 = 12\n",
      "3 x 2 = 15\n",
      "3 x 2 = 18\n",
      "3 x 2 = 21\n",
      "3 x 2 = 24\n",
      "3 x 2 = 27\n",
      "3 x 2 = 30\n",
      "\n",
      "4 x 2 = 4\n",
      "4 x 2 = 8\n",
      "4 x 2 = 12\n",
      "4 x 2 = 16\n",
      "4 x 2 = 20\n",
      "4 x 2 = 24\n",
      "4 x 2 = 28\n",
      "4 x 2 = 32\n",
      "4 x 2 = 36\n",
      "4 x 2 = 40\n",
      "\n"
     ]
    }
   ],
   "source": [
    "for i in range(2,5):\n",
    "    for j in range(1,11):\n",
    "        print(i,\"x\", 2, \"=\", j*i, end = \"\\n\")\n",
    "    print(end = \"\\n\")   \n",
    "    \n",
    "        "
   ]
  },
  {
   "cell_type": "code",
   "execution_count": null,
   "metadata": {},
   "outputs": [],
   "source": []
  }
 ],
 "metadata": {
  "kernelspec": {
   "display_name": "Python 3",
   "language": "python",
   "name": "python3"
  },
  "language_info": {
   "codemirror_mode": {
    "name": "ipython",
    "version": 3
   },
   "file_extension": ".py",
   "mimetype": "text/x-python",
   "name": "python",
   "nbconvert_exporter": "python",
   "pygments_lexer": "ipython3",
   "version": "3.7.1"
  }
 },
 "nbformat": 4,
 "nbformat_minor": 2
}
